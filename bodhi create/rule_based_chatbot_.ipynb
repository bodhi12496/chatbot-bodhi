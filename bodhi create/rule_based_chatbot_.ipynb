{
  "nbformat": 4,
  "nbformat_minor": 0,
  "metadata": {
    "colab": {
      "provenance": []
    },
    "kernelspec": {
      "name": "python3",
      "display_name": "Python 3"
    },
    "language_info": {
      "name": "python"
    }
  },
  "cells": [
    {
      "cell_type": "code",
      "execution_count": null,
      "metadata": {
        "id": "qjHbOuuBhkU5"
      },
      "outputs": [],
      "source": [
        "\n",
        "import re\n",
        "import random\n"
      ]
    },
    {
      "cell_type": "code",
      "source": [
        "class Rulebot :\n",
        "  ### potential"
      ],
      "metadata": {
        "id": "zqb2X7Wch47n"
      },
      "execution_count": null,
      "outputs": []
    }
  ]
}